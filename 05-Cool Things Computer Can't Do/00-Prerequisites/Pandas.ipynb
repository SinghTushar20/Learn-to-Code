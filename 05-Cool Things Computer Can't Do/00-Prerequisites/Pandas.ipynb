{
 "cells": [
  {
   "cell_type": "markdown",
   "metadata": {},
   "source": [
    "## Pandas Basics\n",
    "\n",
    "- In this notebook we will learn how to use pandas for data analysis using the ipl matches dataset."
   ]
  },
  {
   "cell_type": "code",
   "execution_count": 1,
   "metadata": {},
   "outputs": [],
   "source": [
    "import numpy as np\n",
    "import pandas as pd"
   ]
  },
  {
   "cell_type": "markdown",
   "metadata": {},
   "source": [
    "## Important Functions and Attributes in Pandas"
   ]
  },
  {
   "cell_type": "code",
   "execution_count": 2,
   "metadata": {},
   "outputs": [
    {
     "name": "stdout",
     "output_type": "stream",
     "text": [
      "      id  season       city        date                        team1  \\\n",
      "0      1    2017  Hyderabad  2017-04-05          Sunrisers Hyderabad   \n",
      "1      2    2017       Pune  2017-04-06               Mumbai Indians   \n",
      "2      3    2017     Rajkot  2017-04-07                Gujarat Lions   \n",
      "3      4    2017     Indore  2017-04-08       Rising Pune Supergiant   \n",
      "4      5    2017  Bangalore  2017-04-08  Royal Challengers Bangalore   \n",
      "..   ...     ...        ...         ...                          ...   \n",
      "631  632    2016     Raipur  2016-05-22             Delhi Daredevils   \n",
      "632  633    2016  Bangalore  2016-05-24                Gujarat Lions   \n",
      "633  634    2016      Delhi  2016-05-25          Sunrisers Hyderabad   \n",
      "634  635    2016      Delhi  2016-05-27                Gujarat Lions   \n",
      "635  636    2016  Bangalore  2016-05-29          Sunrisers Hyderabad   \n",
      "\n",
      "                           team2                  toss_winner toss_decision  \\\n",
      "0    Royal Challengers Bangalore  Royal Challengers Bangalore         field   \n",
      "1         Rising Pune Supergiant       Rising Pune Supergiant         field   \n",
      "2          Kolkata Knight Riders        Kolkata Knight Riders         field   \n",
      "3                Kings XI Punjab              Kings XI Punjab         field   \n",
      "4               Delhi Daredevils  Royal Challengers Bangalore           bat   \n",
      "..                           ...                          ...           ...   \n",
      "631  Royal Challengers Bangalore  Royal Challengers Bangalore         field   \n",
      "632  Royal Challengers Bangalore  Royal Challengers Bangalore         field   \n",
      "633        Kolkata Knight Riders        Kolkata Knight Riders         field   \n",
      "634          Sunrisers Hyderabad          Sunrisers Hyderabad         field   \n",
      "635  Royal Challengers Bangalore          Sunrisers Hyderabad           bat   \n",
      "\n",
      "     result  dl_applied                       winner  win_by_runs  \\\n",
      "0    normal           0          Sunrisers Hyderabad           35   \n",
      "1    normal           0       Rising Pune Supergiant            0   \n",
      "2    normal           0        Kolkata Knight Riders            0   \n",
      "3    normal           0              Kings XI Punjab            0   \n",
      "4    normal           0  Royal Challengers Bangalore           15   \n",
      "..      ...         ...                          ...          ...   \n",
      "631  normal           0  Royal Challengers Bangalore            0   \n",
      "632  normal           0  Royal Challengers Bangalore            0   \n",
      "633  normal           0          Sunrisers Hyderabad           22   \n",
      "634  normal           0          Sunrisers Hyderabad            0   \n",
      "635  normal           0          Sunrisers Hyderabad            8   \n",
      "\n",
      "     win_by_wickets player_of_match  \\\n",
      "0                 0    Yuvraj Singh   \n",
      "1                 7       SPD Smith   \n",
      "2                10         CA Lynn   \n",
      "3                 6      GJ Maxwell   \n",
      "4                 0       KM Jadhav   \n",
      "..              ...             ...   \n",
      "631               6         V Kohli   \n",
      "632               4  AB de Villiers   \n",
      "633               0    MC Henriques   \n",
      "634               4       DA Warner   \n",
      "635               0     BCJ Cutting   \n",
      "\n",
      "                                                venue          umpire1  \\\n",
      "0           Rajiv Gandhi International Stadium, Uppal      AY Dandekar   \n",
      "1             Maharashtra Cricket Association Stadium   A Nand Kishore   \n",
      "2              Saurashtra Cricket Association Stadium      Nitin Menon   \n",
      "3                              Holkar Cricket Stadium     AK Chaudhary   \n",
      "4                               M Chinnaswamy Stadium              NaN   \n",
      "..                                                ...              ...   \n",
      "631  Shaheed Veer Narayan Singh International Stadium   A Nand Kishore   \n",
      "632                             M Chinnaswamy Stadium     AK Chaudhary   \n",
      "633                                  Feroz Shah Kotla        M Erasmus   \n",
      "634                                  Feroz Shah Kotla        M Erasmus   \n",
      "635                             M Chinnaswamy Stadium  HDPK Dharmasena   \n",
      "\n",
      "             umpire2  umpire3  \n",
      "0           NJ Llong      NaN  \n",
      "1             S Ravi      NaN  \n",
      "2          CK Nandan      NaN  \n",
      "3      C Shamshuddin      NaN  \n",
      "4                NaN      NaN  \n",
      "..               ...      ...  \n",
      "631     BNJ Oxenford      NaN  \n",
      "632  HDPK Dharmasena      NaN  \n",
      "633    C Shamshuddin      NaN  \n",
      "634        CK Nandan      NaN  \n",
      "635     BNJ Oxenford      NaN  \n",
      "\n",
      "[636 rows x 18 columns]\n"
     ]
    }
   ],
   "source": [
    "# importing/fetching data in the notebook\n",
    "data = pd.read_csv(\"ipl_matches.csv\")\n",
    "print(data)"
   ]
  },
  {
   "cell_type": "code",
   "execution_count": 3,
   "metadata": {},
   "outputs": [
    {
     "name": "stdout",
     "output_type": "stream",
     "text": [
      "<class 'pandas.core.frame.DataFrame'>\n"
     ]
    }
   ],
   "source": [
    "# Type of data imported\n",
    "print(type(data))"
   ]
  },
  {
   "cell_type": "code",
   "execution_count": 4,
   "metadata": {},
   "outputs": [
    {
     "name": "stdout",
     "output_type": "stream",
     "text": [
      "Empty DataFrame\n",
      "Columns: [id, season, city, date, team1, team2, toss_winner, toss_decision, result, dl_applied, winner, win_by_runs, win_by_wickets, player_of_match, venue, umpire1, umpire2, umpire3]\n",
      "Index: []\n",
      "   id  season       city        date                team1  \\\n",
      "0   1    2017  Hyderabad  2017-04-05  Sunrisers Hyderabad   \n",
      "1   2    2017       Pune  2017-04-06       Mumbai Indians   \n",
      "\n",
      "                         team2                  toss_winner toss_decision  \\\n",
      "0  Royal Challengers Bangalore  Royal Challengers Bangalore         field   \n",
      "1       Rising Pune Supergiant       Rising Pune Supergiant         field   \n",
      "\n",
      "   result  dl_applied                  winner  win_by_runs  win_by_wickets  \\\n",
      "0  normal           0     Sunrisers Hyderabad           35               0   \n",
      "1  normal           0  Rising Pune Supergiant            0               7   \n",
      "\n",
      "  player_of_match                                      venue         umpire1  \\\n",
      "0    Yuvraj Singh  Rajiv Gandhi International Stadium, Uppal     AY Dandekar   \n",
      "1       SPD Smith    Maharashtra Cricket Association Stadium  A Nand Kishore   \n",
      "\n",
      "    umpire2  umpire3  \n",
      "0  NJ Llong      NaN  \n",
      "1    S Ravi      NaN  \n",
      "Empty DataFrame\n",
      "Columns: [id, season, city, date, team1, team2, toss_winner, toss_decision, result, dl_applied, winner, win_by_runs, win_by_wickets, player_of_match, venue, umpire1, umpire2, umpire3]\n",
      "Index: []\n",
      "      id  season       city        date                team1  \\\n",
      "634  635    2016      Delhi  2016-05-27        Gujarat Lions   \n",
      "635  636    2016  Bangalore  2016-05-29  Sunrisers Hyderabad   \n",
      "\n",
      "                           team2          toss_winner toss_decision  result  \\\n",
      "634          Sunrisers Hyderabad  Sunrisers Hyderabad         field  normal   \n",
      "635  Royal Challengers Bangalore  Sunrisers Hyderabad           bat  normal   \n",
      "\n",
      "     dl_applied               winner  win_by_runs  win_by_wickets  \\\n",
      "634           0  Sunrisers Hyderabad            0               4   \n",
      "635           0  Sunrisers Hyderabad            8               0   \n",
      "\n",
      "    player_of_match                  venue          umpire1       umpire2  \\\n",
      "634       DA Warner       Feroz Shah Kotla        M Erasmus     CK Nandan   \n",
      "635     BCJ Cutting  M Chinnaswamy Stadium  HDPK Dharmasena  BNJ Oxenford   \n",
      "\n",
      "     umpire3  \n",
      "634      NaN  \n",
      "635      NaN  \n"
     ]
    }
   ],
   "source": [
    "# Previewing the imported data\n",
    "print(data.head(0))\n",
    "print(data.head(2))\n",
    "print(data.tail(0))\n",
    "print(data.tail(2))\n"
   ]
  },
  {
   "cell_type": "code",
   "execution_count": 5,
   "metadata": {},
   "outputs": [
    {
     "name": "stdout",
     "output_type": "stream",
     "text": [
      "(636, 18)\n"
     ]
    }
   ],
   "source": [
    "# Getting the shape of data\n",
    "print(data.shape)"
   ]
  },
  {
   "cell_type": "code",
   "execution_count": 6,
   "metadata": {},
   "outputs": [
    {
     "name": "stdout",
     "output_type": "stream",
     "text": [
      "<class 'pandas.core.frame.DataFrame'>\n",
      "RangeIndex: 636 entries, 0 to 635\n",
      "Data columns (total 18 columns):\n",
      " #   Column           Non-Null Count  Dtype  \n",
      "---  ------           --------------  -----  \n",
      " 0   id               636 non-null    int64  \n",
      " 1   season           636 non-null    int64  \n",
      " 2   city             629 non-null    object \n",
      " 3   date             636 non-null    object \n",
      " 4   team1            636 non-null    object \n",
      " 5   team2            636 non-null    object \n",
      " 6   toss_winner      636 non-null    object \n",
      " 7   toss_decision    636 non-null    object \n",
      " 8   result           636 non-null    object \n",
      " 9   dl_applied       636 non-null    int64  \n",
      " 10  winner           633 non-null    object \n",
      " 11  win_by_runs      636 non-null    int64  \n",
      " 12  win_by_wickets   636 non-null    int64  \n",
      " 13  player_of_match  633 non-null    object \n",
      " 14  venue            636 non-null    object \n",
      " 15  umpire1          635 non-null    object \n",
      " 16  umpire2          635 non-null    object \n",
      " 17  umpire3          0 non-null      float64\n",
      "dtypes: float64(1), int64(5), object(12)\n",
      "memory usage: 89.6+ KB\n",
      "None\n"
     ]
    }
   ],
   "source": [
    "# Info of the data\n",
    "print(data.info())"
   ]
  },
  {
   "cell_type": "code",
   "execution_count": 47,
   "metadata": {},
   "outputs": [
    {
     "name": "stdout",
     "output_type": "stream",
     "text": [
      "               id       season  dl_applied  win_by_runs  win_by_wickets  \\\n",
      "count  636.000000   636.000000  636.000000   636.000000      636.000000   \n",
      "mean   318.500000  2012.490566    0.025157    13.682390        3.372642   \n",
      "std    183.741666     2.773026    0.156726    23.908877        3.420338   \n",
      "min      1.000000  2008.000000    0.000000     0.000000        0.000000   \n",
      "25%    159.750000  2010.000000    0.000000     0.000000        0.000000   \n",
      "50%    318.500000  2012.000000    0.000000     0.000000        4.000000   \n",
      "75%    477.250000  2015.000000    0.000000    20.000000        7.000000   \n",
      "max    636.000000  2017.000000    1.000000   146.000000       10.000000   \n",
      "\n",
      "       umpire3  \n",
      "count      0.0  \n",
      "mean       NaN  \n",
      "std        NaN  \n",
      "min        NaN  \n",
      "25%        NaN  \n",
      "50%        NaN  \n",
      "75%        NaN  \n",
      "max        NaN  \n"
     ]
    }
   ],
   "source": [
    "# Only describes numerical types in the data i.e. we get a high level overview of the mathematical columns \n",
    "print(data.describe())"
   ]
  },
  {
   "cell_type": "code",
   "execution_count": 48,
   "metadata": {},
   "outputs": [
    {
     "name": "stdout",
     "output_type": "stream",
     "text": [
      "Mumbai            85\n",
      "Bangalore         66\n",
      "Kolkata           61\n",
      "Delhi             60\n",
      "Hyderabad         49\n",
      "Chennai           48\n",
      "Chandigarh        46\n",
      "Jaipur            33\n",
      "Pune              32\n",
      "Durban            15\n",
      "Ahmedabad         12\n",
      "Centurion         12\n",
      "Visakhapatnam     11\n",
      "Rajkot            10\n",
      "Dharamsala         9\n",
      "Johannesburg       8\n",
      "Cape Town          7\n",
      "Abu Dhabi          7\n",
      "Ranchi             7\n",
      "Port Elizabeth     7\n",
      "Cuttack            7\n",
      "Raipur             6\n",
      "Sharjah            6\n",
      "Kochi              5\n",
      "Indore             5\n",
      "Kanpur             4\n",
      "Nagpur             3\n",
      "Kimberley          3\n",
      "East London        3\n",
      "Bloemfontein       2\n",
      "Name: city, dtype: int64\n"
     ]
    }
   ],
   "source": [
    "# Get the frequency count of a particular series\n",
    "print(data['city'].value_counts())\n",
    "# There can be two kinds of data in a series, categorical or non-categorical.\n",
    "# This is mostly used with categorical data as having a frequency count with categorical data makes more sense."
   ]
  },
  {
   "cell_type": "code",
   "execution_count": 54,
   "metadata": {},
   "outputs": [
    {
     "data": {
      "text/plain": [
       "<AxesSubplot:ylabel='winner'>"
      ]
     },
     "execution_count": 54,
     "metadata": {},
     "output_type": "execute_result"
    },
    {
     "data": {
      "image/png": "[encoded data removed]",
      "text/plain": [
       "<Figure size 432x288 with 1 Axes>"
      ]
     },
     "metadata": {},
     "output_type": "display_data"
    }
   ],
   "source": []
  },
  {
   "cell_type": "markdown",
   "metadata": {},
   "source": [
    "## Fetching rows and columns aka series from dataframe"
   ]
  },
  {
   "cell_type": "code",
   "execution_count": 8,
   "metadata": {},
   "outputs": [
    {
     "name": "stdout",
     "output_type": "stream",
     "text": [
      "Empty DataFrame\n",
      "Columns: [id, season, city, date, team1, team2, toss_winner, toss_decision, result, dl_applied, winner, win_by_runs, win_by_wickets, player_of_match, venue, umpire1, umpire2, umpire3]\n",
      "Index: []\n"
     ]
    }
   ],
   "source": [
    "print(data.head(0))"
   ]
  },
  {
   "cell_type": "code",
   "execution_count": 9,
   "metadata": {},
   "outputs": [
    {
     "name": "stdout",
     "output_type": "stream",
     "text": [
      "0      Hyderabad\n",
      "1           Pune\n",
      "2         Rajkot\n",
      "3         Indore\n",
      "4      Bangalore\n",
      "         ...    \n",
      "631       Raipur\n",
      "632    Bangalore\n",
      "633        Delhi\n",
      "634        Delhi\n",
      "635    Bangalore\n",
      "Name: city, Length: 636, dtype: object\n",
      "(636,)\n",
      "<class 'pandas.core.series.Series'>\n"
     ]
    }
   ],
   "source": [
    "# Fetching Single Column on basis of column name\n",
    "print(data['city'])\n",
    "print(data['city'].shape)\n",
    "print(type(data['city']))"
   ]
  },
  {
   "cell_type": "code",
   "execution_count": 10,
   "metadata": {},
   "outputs": [
    {
     "name": "stdout",
     "output_type": "stream",
     "text": [
      "                           team1                        team2  \\\n",
      "0            Sunrisers Hyderabad  Royal Challengers Bangalore   \n",
      "1                 Mumbai Indians       Rising Pune Supergiant   \n",
      "2                  Gujarat Lions        Kolkata Knight Riders   \n",
      "3         Rising Pune Supergiant              Kings XI Punjab   \n",
      "4    Royal Challengers Bangalore             Delhi Daredevils   \n",
      "..                           ...                          ...   \n",
      "631             Delhi Daredevils  Royal Challengers Bangalore   \n",
      "632                Gujarat Lions  Royal Challengers Bangalore   \n",
      "633          Sunrisers Hyderabad        Kolkata Knight Riders   \n",
      "634                Gujarat Lions          Sunrisers Hyderabad   \n",
      "635          Sunrisers Hyderabad  Royal Challengers Bangalore   \n",
      "\n",
      "                          winner  \n",
      "0            Sunrisers Hyderabad  \n",
      "1         Rising Pune Supergiant  \n",
      "2          Kolkata Knight Riders  \n",
      "3                Kings XI Punjab  \n",
      "4    Royal Challengers Bangalore  \n",
      "..                           ...  \n",
      "631  Royal Challengers Bangalore  \n",
      "632  Royal Challengers Bangalore  \n",
      "633          Sunrisers Hyderabad  \n",
      "634          Sunrisers Hyderabad  \n",
      "635          Sunrisers Hyderabad  \n",
      "\n",
      "[636 rows x 3 columns]\n",
      "(636, 3)\n",
      "<class 'pandas.core.frame.DataFrame'>\n"
     ]
    }
   ],
   "source": [
    "# Fetching Multiple Columns on basis of column name\n",
    "print(data[['team1', 'team2', 'winner']])\n",
    "print(data[['team1', 'team2', 'winner']].shape)\n",
    "print(type(data[['team1', 'team2', 'winner']]))"
   ]
  },
  {
   "cell_type": "markdown",
   "metadata": {},
   "source": [
    "- Using `iloc` we can fetch rows and columns and can use slicing and fancy indexing as well."
   ]
  },
  {
   "cell_type": "code",
   "execution_count": 11,
   "metadata": {},
   "outputs": [
    {
     "name": "stdout",
     "output_type": "stream",
     "text": [
      "id                                                         1\n",
      "season                                                  2017\n",
      "city                                               Hyderabad\n",
      "date                                              2017-04-05\n",
      "team1                                    Sunrisers Hyderabad\n",
      "team2                            Royal Challengers Bangalore\n",
      "toss_winner                      Royal Challengers Bangalore\n",
      "toss_decision                                          field\n",
      "result                                                normal\n",
      "dl_applied                                                 0\n",
      "winner                                   Sunrisers Hyderabad\n",
      "win_by_runs                                               35\n",
      "win_by_wickets                                             0\n",
      "player_of_match                                 Yuvraj Singh\n",
      "venue              Rajiv Gandhi International Stadium, Uppal\n",
      "umpire1                                          AY Dandekar\n",
      "umpire2                                             NJ Llong\n",
      "umpire3                                                  NaN\n",
      "Name: 0, dtype: object\n",
      "(18,)\n",
      "<class 'pandas.core.series.Series'>\n"
     ]
    }
   ],
   "source": [
    "# Featching a Row\n",
    "print(data.iloc[0])\n",
    "print(data.iloc[0].shape)\n",
    "print(type(data.iloc[0]))"
   ]
  },
  {
   "cell_type": "code",
   "execution_count": 14,
   "metadata": {},
   "outputs": [
    {
     "name": "stdout",
     "output_type": "stream",
     "text": [
      "   id  season    city        date           team1                   team2  \\\n",
      "1   2    2017    Pune  2017-04-06  Mumbai Indians  Rising Pune Supergiant   \n",
      "2   3    2017  Rajkot  2017-04-07   Gujarat Lions   Kolkata Knight Riders   \n",
      "\n",
      "              toss_winner toss_decision  result  dl_applied  \\\n",
      "1  Rising Pune Supergiant         field  normal           0   \n",
      "2   Kolkata Knight Riders         field  normal           0   \n",
      "\n",
      "                   winner  win_by_runs  win_by_wickets player_of_match  \\\n",
      "1  Rising Pune Supergiant            0               7       SPD Smith   \n",
      "2   Kolkata Knight Riders            0              10         CA Lynn   \n",
      "\n",
      "                                     venue         umpire1    umpire2  umpire3  \n",
      "1  Maharashtra Cricket Association Stadium  A Nand Kishore     S Ravi      NaN  \n",
      "2   Saurashtra Cricket Association Stadium     Nitin Menon  CK Nandan      NaN  \n",
      "(2, 18)\n",
      "<class 'pandas.core.frame.DataFrame'>\n"
     ]
    }
   ],
   "source": [
    "# Featching Multiple Rows using slicing\n",
    "print(data.iloc[1:3])\n",
    "print(data.iloc[1:3].shape)\n",
    "print(type(data.iloc[1:3]))"
   ]
  },
  {
   "cell_type": "code",
   "execution_count": 20,
   "metadata": {},
   "outputs": [
    {
     "name": "stdout",
     "output_type": "stream",
     "text": [
      "0      Hyderabad\n",
      "1           Pune\n",
      "2         Rajkot\n",
      "3         Indore\n",
      "4      Bangalore\n",
      "         ...    \n",
      "631       Raipur\n",
      "632    Bangalore\n",
      "633        Delhi\n",
      "634        Delhi\n",
      "635    Bangalore\n",
      "Name: city, Length: 636, dtype: object\n",
      "(636,)\n",
      "<class 'pandas.core.series.Series'>\n"
     ]
    }
   ],
   "source": [
    "# Featching a Column\n",
    "print(data.iloc[:, 2])\n",
    "print(data.iloc[:, 2].shape)\n",
    "print(type(data.iloc[:, 2]))"
   ]
  },
  {
   "cell_type": "code",
   "execution_count": 21,
   "metadata": {},
   "outputs": [
    {
     "name": "stdout",
     "output_type": "stream",
     "text": [
      "     season       city\n",
      "0      2017  Hyderabad\n",
      "1      2017       Pune\n",
      "2      2017     Rajkot\n",
      "3      2017     Indore\n",
      "4      2017  Bangalore\n",
      "..      ...        ...\n",
      "631    2016     Raipur\n",
      "632    2016  Bangalore\n",
      "633    2016      Delhi\n",
      "634    2016      Delhi\n",
      "635    2016  Bangalore\n",
      "\n",
      "[636 rows x 2 columns]\n",
      "(636, 2)\n",
      "<class 'pandas.core.frame.DataFrame'>\n"
     ]
    }
   ],
   "source": [
    "# Featching Multiple Columns using slicing\n",
    "print(data.iloc[:, 1:3])\n",
    "print(data.iloc[:, 1:3].shape)\n",
    "print(type(data.iloc[:, 1:3]))"
   ]
  },
  {
   "cell_type": "code",
   "execution_count": 16,
   "metadata": {},
   "outputs": [
    {
     "name": "stdout",
     "output_type": "stream",
     "text": [
      "         date           team1                   team2             toss_winner\n",
      "1  2017-04-06  Mumbai Indians  Rising Pune Supergiant  Rising Pune Supergiant\n",
      "2  2017-04-07   Gujarat Lions   Kolkata Knight Riders   Kolkata Knight Riders\n",
      "(2, 4)\n",
      "<class 'pandas.core.frame.DataFrame'>\n"
     ]
    }
   ],
   "source": [
    "# Featching a subrectangle of the table using slicing\n",
    "print(data.iloc[1:3, 3:7])\n",
    "print(data.iloc[1:3, 3:7].shape)\n",
    "print(type(data.iloc[1:3, 3:7]))"
   ]
  },
  {
   "cell_type": "code",
   "execution_count": 23,
   "metadata": {},
   "outputs": [
    {
     "name": "stdout",
     "output_type": "stream",
     "text": [
      "   id  season       city        date                team1  \\\n",
      "0   1    2017  Hyderabad  2017-04-05  Sunrisers Hyderabad   \n",
      "2   3    2017     Rajkot  2017-04-07        Gujarat Lions   \n",
      "\n",
      "                         team2                  toss_winner toss_decision  \\\n",
      "0  Royal Challengers Bangalore  Royal Challengers Bangalore         field   \n",
      "2        Kolkata Knight Riders        Kolkata Knight Riders         field   \n",
      "\n",
      "   result  dl_applied                 winner  win_by_runs  win_by_wickets  \\\n",
      "0  normal           0    Sunrisers Hyderabad           35               0   \n",
      "2  normal           0  Kolkata Knight Riders            0              10   \n",
      "\n",
      "  player_of_match                                      venue      umpire1  \\\n",
      "0    Yuvraj Singh  Rajiv Gandhi International Stadium, Uppal  AY Dandekar   \n",
      "2         CA Lynn     Saurashtra Cricket Association Stadium  Nitin Menon   \n",
      "\n",
      "     umpire2  umpire3  \n",
      "0   NJ Llong      NaN  \n",
      "2  CK Nandan      NaN  \n",
      "     season        date\n",
      "0      2017  2017-04-05\n",
      "1      2017  2017-04-06\n",
      "2      2017  2017-04-07\n",
      "3      2017  2017-04-08\n",
      "4      2017  2017-04-08\n",
      "..      ...         ...\n",
      "631    2016  2016-05-22\n",
      "632    2016  2016-05-24\n",
      "633    2016  2016-05-25\n",
      "634    2016  2016-05-27\n",
      "635    2016  2016-05-29\n",
      "\n",
      "[636 rows x 2 columns]\n",
      "   season        date\n",
      "0    2017  2017-04-05\n",
      "2    2017  2017-04-07\n"
     ]
    }
   ],
   "source": [
    "# Featching data using fancy indexing\n",
    "# Fancy Indexing is used when we want descrete values\n",
    "print(data.iloc[[0,2]])\n",
    "print(data.iloc[:,[1,3]])\n",
    "print(data.iloc[[0,2],[1,3]])"
   ]
  },
  {
   "cell_type": "markdown",
   "metadata": {},
   "source": [
    "## Filtering Dataframe on a condition aka masking using boolean series"
   ]
  },
  {
   "cell_type": "code",
   "execution_count": 28,
   "metadata": {},
   "outputs": [
    {
     "name": "stdout",
     "output_type": "stream",
     "text": [
      "0      False\n",
      "1      False\n",
      "2       True\n",
      "3      False\n",
      "4      False\n",
      "       ...  \n",
      "631    False\n",
      "632    False\n",
      "633    False\n",
      "634    False\n",
      "635    False\n",
      "Name: city, Length: 636, dtype: bool\n"
     ]
    }
   ],
   "source": [
    "# finding matches played in Rajkot\n",
    "# creating a boolean series aka mask\n",
    "mask = data['city'] == 'Rajkot'\n",
    "print(mask)"
   ]
  },
  {
   "cell_type": "code",
   "execution_count": 34,
   "metadata": {},
   "outputs": [
    {
     "name": "stdout",
     "output_type": "stream",
     "text": [
      "      id  season    city        date                        team1  \\\n",
      "2      3    2017  Rajkot  2017-04-07                Gujarat Lions   \n",
      "12    13    2017  Rajkot  2017-04-14       Rising Pune Supergiant   \n",
      "19    20    2017  Rajkot  2017-04-18  Royal Challengers Bangalore   \n",
      "25    26    2017  Rajkot  2017-04-23              Kings XI Punjab   \n",
      "33    34    2017  Rajkot  2017-04-29                Gujarat Lions   \n",
      "581  582    2016  Rajkot  2016-04-14      Rising Pune Supergiants   \n",
      "590  591    2016  Rajkot  2016-04-21                Gujarat Lions   \n",
      "594  595    2016  Rajkot  2016-04-24  Royal Challengers Bangalore   \n",
      "603  604    2016  Rajkot  2016-05-01              Kings XI Punjab   \n",
      "606  607    2016  Rajkot  2016-05-03                Gujarat Lions   \n",
      "\n",
      "                     team2                  toss_winner toss_decision  result  \\\n",
      "2    Kolkata Knight Riders        Kolkata Knight Riders         field  normal   \n",
      "12           Gujarat Lions                Gujarat Lions         field  normal   \n",
      "19           Gujarat Lions                Gujarat Lions         field  normal   \n",
      "25           Gujarat Lions                Gujarat Lions         field  normal   \n",
      "33          Mumbai Indians                Gujarat Lions           bat     tie   \n",
      "581          Gujarat Lions      Rising Pune Supergiants           bat  normal   \n",
      "590    Sunrisers Hyderabad          Sunrisers Hyderabad         field  normal   \n",
      "594          Gujarat Lions  Royal Challengers Bangalore           bat  normal   \n",
      "603          Gujarat Lions                Gujarat Lions         field  normal   \n",
      "606       Delhi Daredevils             Delhi Daredevils         field  normal   \n",
      "\n",
      "     dl_applied                       winner  win_by_runs  win_by_wickets  \\\n",
      "2             0        Kolkata Knight Riders            0              10   \n",
      "12            0                Gujarat Lions            0               7   \n",
      "19            0  Royal Challengers Bangalore           21               0   \n",
      "25            0              Kings XI Punjab           26               0   \n",
      "33            0               Mumbai Indians            0               0   \n",
      "581           0                Gujarat Lions            0               7   \n",
      "590           0          Sunrisers Hyderabad            0              10   \n",
      "594           0                Gujarat Lions            0               6   \n",
      "603           0              Kings XI Punjab           23               0   \n",
      "606           0             Delhi Daredevils            0               8   \n",
      "\n",
      "    player_of_match                                   venue         umpire1  \\\n",
      "2           CA Lynn  Saurashtra Cricket Association Stadium     Nitin Menon   \n",
      "12           AJ Tye  Saurashtra Cricket Association Stadium  A Nand Kishore   \n",
      "19         CH Gayle  Saurashtra Cricket Association Stadium          S Ravi   \n",
      "25          HM Amla  Saurashtra Cricket Association Stadium    AK Chaudhary   \n",
      "33        KH Pandya  Saurashtra Cricket Association Stadium    AK Chaudhary   \n",
      "581        AJ Finch  Saurashtra Cricket Association Stadium     VA Kulkarni   \n",
      "590         B Kumar  Saurashtra Cricket Association Stadium      K Bharatan   \n",
      "594         V Kohli  Saurashtra Cricket Association Stadium      K Bharatan   \n",
      "603        AR Patel  Saurashtra Cricket Association Stadium    BNJ Oxenford   \n",
      "606         RR Pant  Saurashtra Cricket Association Stadium     CB Gaffaney   \n",
      "\n",
      "             umpire2  umpire3  \n",
      "2          CK Nandan      NaN  \n",
      "12            S Ravi      NaN  \n",
      "19         VK Sharma      NaN  \n",
      "25         M Erasmus      NaN  \n",
      "33       CB Gaffaney      NaN  \n",
      "581        CK Nandan      NaN  \n",
      "590  HDPK Dharmasena      NaN  \n",
      "594     BNJ Oxenford      NaN  \n",
      "603        VK Sharma      NaN  \n",
      "606     BNJ Oxenford      NaN  \n",
      "(10, 18)\n",
      "Matches played in Rajkot:  10\n"
     ]
    }
   ],
   "source": [
    "# using that mask on the data frame\n",
    "rajkot_matches = data[mask]\n",
    "print(rajkot_matches)\n",
    "print(rajkot_matches.shape)\n",
    "print(\"Matches played in Rajkot: \",rajkot_matches.shape[0])"
   ]
  },
  {
   "cell_type": "code",
   "execution_count": 38,
   "metadata": {},
   "outputs": [
    {
     "name": "stdout",
     "output_type": "stream",
     "text": [
      "0      False\n",
      "1      False\n",
      "2      False\n",
      "3      False\n",
      "4      False\n",
      "       ...  \n",
      "631    False\n",
      "632    False\n",
      "633    False\n",
      "634    False\n",
      "635    False\n",
      "Name: city, Length: 636, dtype: bool\n",
      "0      False\n",
      "1      False\n",
      "2      False\n",
      "3      False\n",
      "4       True\n",
      "       ...  \n",
      "631    False\n",
      "632    False\n",
      "633    False\n",
      "634    False\n",
      "635     True\n",
      "Name: toss_decision, Length: 636, dtype: bool\n"
     ]
    }
   ],
   "source": [
    "# Using Multiple Conditions using multiple masks\n",
    "# getting matches played in Mumbai when toss winning team chose to bat first\n",
    "mask1 = data['city'] == 'Mumbai'\n",
    "mask2 = data['toss_decision'] == 'bat'\n",
    "print(mask1)\n",
    "print(mask2)"
   ]
  },
  {
   "cell_type": "code",
   "execution_count": 46,
   "metadata": {},
   "outputs": [
    {
     "name": "stdout",
     "output_type": "stream",
     "text": [
      "      id  season    city        date                        team1  \\\n",
      "36    37    2017  Mumbai  2017-05-01  Royal Challengers Bangalore   \n",
      "62    63    2008  Mumbai  2008-04-20               Mumbai Indians   \n",
      "115  116    2008  Mumbai  2008-05-31              Kings XI Punjab   \n",
      "175  176    2010  Mumbai  2010-03-13               Mumbai Indians   \n",
      "187  188    2010  Mumbai  2010-03-20               Mumbai Indians   \n",
      "190  191    2010  Mumbai  2010-03-22        Kolkata Knight Riders   \n",
      "206  207    2010  Mumbai  2010-04-03               Mumbai Indians   \n",
      "220  221    2010  Mumbai  2010-04-13               Mumbai Indians   \n",
      "230  231    2010  Mumbai  2010-04-21               Mumbai Indians   \n",
      "231  232    2010  Mumbai  2010-04-22          Chennai Super Kings   \n",
      "232  233    2010  Mumbai  2010-04-24              Deccan Chargers   \n",
      "233  234    2010  Mumbai  2010-04-25          Chennai Super Kings   \n",
      "238  239    2011  Mumbai  2011-04-10              Kings XI Punjab   \n",
      "243  244    2011  Mumbai  2011-04-13         Kochi Tuskers Kerala   \n",
      "253  254    2011  Mumbai  2011-04-20                Pune Warriors   \n",
      "263  264    2011  Mumbai  2011-04-27                Pune Warriors   \n",
      "291  292    2011  Mumbai  2011-05-14              Deccan Chargers   \n",
      "298  299    2011  Mumbai  2011-05-20               Mumbai Indians   \n",
      "335  336    2012  Mumbai  2012-04-22               Mumbai Indians   \n",
      "389  390    2013  Mumbai  2013-04-09               Mumbai Indians   \n",
      "394  395    2013  Mumbai  2013-04-13               Mumbai Indians   \n",
      "416  417    2013  Mumbai  2013-04-27               Mumbai Indians   \n",
      "420  421    2013  Mumbai  2013-04-29               Mumbai Indians   \n",
      "429  430    2013  Mumbai  2013-05-05               Mumbai Indians   \n",
      "433  434    2013  Mumbai  2013-05-07               Mumbai Indians   \n",
      "443  444    2013  Mumbai  2013-05-13          Sunrisers Hyderabad   \n",
      "478  479    2014  Mumbai  2014-05-03              Kings XI Punjab   \n",
      "529  530    2015  Mumbai  2015-04-17               Mumbai Indians   \n",
      "540  541    2015  Mumbai  2015-04-25               Mumbai Indians   \n",
      "555  556    2015  Mumbai  2015-05-05             Delhi Daredevils   \n",
      "561  562    2015  Mumbai  2015-05-10  Royal Challengers Bangalore   \n",
      "569  570    2015  Mumbai  2015-05-16             Rajasthan Royals   \n",
      "572  573    2015  Mumbai  2015-05-19               Mumbai Indians   \n",
      "576  577    2016  Mumbai  2016-04-09               Mumbai Indians   \n",
      "\n",
      "                           team2                  toss_winner toss_decision  \\\n",
      "36                Mumbai Indians  Royal Challengers Bangalore           bat   \n",
      "62   Royal Challengers Bangalore               Mumbai Indians           bat   \n",
      "115          Chennai Super Kings              Kings XI Punjab           bat   \n",
      "175             Rajasthan Royals               Mumbai Indians           bat   \n",
      "187  Royal Challengers Bangalore               Mumbai Indians           bat   \n",
      "190               Mumbai Indians        Kolkata Knight Riders           bat   \n",
      "206              Deccan Chargers               Mumbai Indians           bat   \n",
      "220             Delhi Daredevils               Mumbai Indians           bat   \n",
      "230  Royal Challengers Bangalore               Mumbai Indians           bat   \n",
      "231              Deccan Chargers          Chennai Super Kings           bat   \n",
      "232  Royal Challengers Bangalore              Deccan Chargers           bat   \n",
      "233               Mumbai Indians          Chennai Super Kings           bat   \n",
      "238                Pune Warriors              Kings XI Punjab           bat   \n",
      "243                Pune Warriors         Kochi Tuskers Kerala           bat   \n",
      "253               Mumbai Indians                Pune Warriors           bat   \n",
      "263          Chennai Super Kings                Pune Warriors           bat   \n",
      "291               Mumbai Indians              Deccan Chargers           bat   \n",
      "298             Rajasthan Royals               Mumbai Indians           bat   \n",
      "335              Kings XI Punjab               Mumbai Indians           bat   \n",
      "389             Delhi Daredevils               Mumbai Indians           bat   \n",
      "394                Pune Warriors               Mumbai Indians           bat   \n",
      "416  Royal Challengers Bangalore               Mumbai Indians           bat   \n",
      "420              Kings XI Punjab               Mumbai Indians           bat   \n",
      "429          Chennai Super Kings               Mumbai Indians           bat   \n",
      "433        Kolkata Knight Riders               Mumbai Indians           bat   \n",
      "443               Mumbai Indians          Sunrisers Hyderabad           bat   \n",
      "478               Mumbai Indians              Kings XI Punjab           bat   \n",
      "529          Chennai Super Kings               Mumbai Indians           bat   \n",
      "540          Sunrisers Hyderabad               Mumbai Indians           bat   \n",
      "555               Mumbai Indians             Delhi Daredevils           bat   \n",
      "561               Mumbai Indians  Royal Challengers Bangalore           bat   \n",
      "569        Kolkata Knight Riders             Rajasthan Royals           bat   \n",
      "572          Chennai Super Kings               Mumbai Indians           bat   \n",
      "576      Rising Pune Supergiants               Mumbai Indians           bat   \n",
      "\n",
      "     result  dl_applied                       winner  win_by_runs  \\\n",
      "36   normal           0               Mumbai Indians            0   \n",
      "62   normal           0  Royal Challengers Bangalore            0   \n",
      "115  normal           0          Chennai Super Kings            0   \n",
      "175  normal           0               Mumbai Indians            4   \n",
      "187  normal           0  Royal Challengers Bangalore            0   \n",
      "190  normal           0               Mumbai Indians            0   \n",
      "206  normal           0               Mumbai Indians           63   \n",
      "220  normal           0               Mumbai Indians           39   \n",
      "230  normal           0               Mumbai Indians           35   \n",
      "231  normal           0          Chennai Super Kings           38   \n",
      "232  normal           0  Royal Challengers Bangalore            0   \n",
      "233  normal           0          Chennai Super Kings           22   \n",
      "238  normal           0                Pune Warriors            0   \n",
      "243  normal           0                Pune Warriors            0   \n",
      "253  normal           0               Mumbai Indians            0   \n",
      "263  normal           0          Chennai Super Kings            0   \n",
      "291  normal           0              Deccan Chargers           10   \n",
      "298  normal           0             Rajasthan Royals            0   \n",
      "335  normal           0              Kings XI Punjab            0   \n",
      "389  normal           0               Mumbai Indians           44   \n",
      "394  normal           0               Mumbai Indians           41   \n",
      "416  normal           0               Mumbai Indians           58   \n",
      "420  normal           0               Mumbai Indians            4   \n",
      "429  normal           0               Mumbai Indians           60   \n",
      "433  normal           0               Mumbai Indians           65   \n",
      "443  normal           0               Mumbai Indians            0   \n",
      "478  normal           0               Mumbai Indians            0   \n",
      "529  normal           0          Chennai Super Kings            0   \n",
      "540  normal           0               Mumbai Indians           20   \n",
      "555  normal           0               Mumbai Indians            0   \n",
      "561  normal           0  Royal Challengers Bangalore           39   \n",
      "569  normal           0             Rajasthan Royals            9   \n",
      "572  normal           0               Mumbai Indians           25   \n",
      "576  normal           0      Rising Pune Supergiants            0   \n",
      "\n",
      "     win_by_wickets  player_of_match                       venue  \\\n",
      "36                5        RG Sharma            Wankhede Stadium   \n",
      "62                5       MV Boucher            Wankhede Stadium   \n",
      "115               9          M Ntini            Wankhede Stadium   \n",
      "175               0        YK Pathan           Brabourne Stadium   \n",
      "187               7        JH Kallis           Brabourne Stadium   \n",
      "190               7     SR Tendulkar           Brabourne Stadium   \n",
      "206               0        AT Rayudu           Brabourne Stadium   \n",
      "220               0       KA Pollard           Brabourne Stadium   \n",
      "230               0       KA Pollard  Dr DY Patil Sports Academy   \n",
      "231               0     DE Bollinger  Dr DY Patil Sports Academy   \n",
      "232               9         A Kumble  Dr DY Patil Sports Academy   \n",
      "233               0         SK Raina  Dr DY Patil Sports Academy   \n",
      "238               7          SB Wagh  Dr DY Patil Sports Academy   \n",
      "243               4        MD Mishra  Dr DY Patil Sports Academy   \n",
      "253               7         MM Patel            Wankhede Stadium   \n",
      "263               8     DE Bollinger  Dr DY Patil Sports Academy   \n",
      "291               0         A Mishra            Wankhede Stadium   \n",
      "298              10        SR Watson            Wankhede Stadium   \n",
      "335               6         SE Marsh            Wankhede Stadium   \n",
      "389               0       KD Karthik            Wankhede Stadium   \n",
      "394               0        RG Sharma            Wankhede Stadium   \n",
      "416               0         DR Smith            Wankhede Stadium   \n",
      "420               0        RG Sharma            Wankhede Stadium   \n",
      "429               0       MG Johnson            Wankhede Stadium   \n",
      "433               0     SR Tendulkar            Wankhede Stadium   \n",
      "443               7       KA Pollard            Wankhede Stadium   \n",
      "478               5      CJ Anderson            Wankhede Stadium   \n",
      "529               6          A Nehra            Wankhede Stadium   \n",
      "540               0       SL Malinga            Wankhede Stadium   \n",
      "555               5  Harbhajan Singh            Wankhede Stadium   \n",
      "561               0   AB de Villiers            Wankhede Stadium   \n",
      "569               0        SR Watson           Brabourne Stadium   \n",
      "572               0       KA Pollard            Wankhede Stadium   \n",
      "576               9        AM Rahane            Wankhede Stadium   \n",
      "\n",
      "             umpire1         umpire2  umpire3  \n",
      "36      AK Chaudhary     CB Gaffaney      NaN  \n",
      "62          SJ Davis       DJ Harper      NaN  \n",
      "115        Asad Rauf       DJ Harper      NaN  \n",
      "175      RE Koertzen       RB Tiffin      NaN  \n",
      "187  HDPK Dharmasena       SS Hazare      NaN  \n",
      "190        SS Hazare      SJA Taufel      NaN  \n",
      "206      BR Doctrove          S Ravi      NaN  \n",
      "220         S Asnani       DJ Harper      NaN  \n",
      "230      BR Doctrove       RB Tiffin      NaN  \n",
      "231      BR Doctrove       RB Tiffin      NaN  \n",
      "232      RE Koertzen      SJA Taufel      NaN  \n",
      "233      RE Koertzen      SJA Taufel      NaN  \n",
      "238      BR Doctrove      PR Reiffel      NaN  \n",
      "243         S Asnani      PR Reiffel      NaN  \n",
      "253        Asad Rauf       AM Saheba      NaN  \n",
      "263        Asad Rauf      SL Shastri      NaN  \n",
      "291           S Ravi     SK Tarapore      NaN  \n",
      "298      RE Koertzen      PR Reiffel      NaN  \n",
      "335           S Ravi       RJ Tucker      NaN  \n",
      "389        M Erasmus     VA Kulkarni      NaN  \n",
      "394           S Ravi      SJA Taufel      NaN  \n",
      "416        Asad Rauf        S Asnani      NaN  \n",
      "420        Asad Rauf    AK Chaudhary      NaN  \n",
      "429  HDPK Dharmasena       CK Nandan      NaN  \n",
      "433  HDPK Dharmasena          S Ravi      NaN  \n",
      "443     AK Chaudhary      SJA Taufel      NaN  \n",
      "478     BNJ Oxenford   C Shamshuddin      NaN  \n",
      "529     AK Chaudhary       M Erasmus      NaN  \n",
      "540  HDPK Dharmasena     CB Gaffaney      NaN  \n",
      "555  HDPK Dharmasena     CB Gaffaney      NaN  \n",
      "561        JD Cloete   C Shamshuddin      NaN  \n",
      "569     RM Deshpande  RK Illingworth      NaN  \n",
      "572  HDPK Dharmasena  RK Illingworth      NaN  \n",
      "576  HDPK Dharmasena       CK Nandan      NaN  \n",
      "(34, 18)\n",
      "34\n"
     ]
    }
   ],
   "source": [
    "# for multiple condition we use bitwise operators\n",
    "filtered_result = data[mask1 & mask2]\n",
    "print(filtered_result)\n",
    "print(filtered_result.shape)\n",
    "print(filtered_result.shape[0])"
   ]
  },
  {
   "cell_type": "markdown",
   "metadata": {},
   "source": [
    "## Plotting graphs using pandas"
   ]
  },
  {
   "cell_type": "code",
   "execution_count": 62,
   "metadata": {},
   "outputs": [
    {
     "name": "stdout",
     "output_type": "stream",
     "text": [
      "Empty DataFrame\n",
      "Columns: [id, season, city, date, team1, team2, toss_winner, toss_decision, result, dl_applied, winner, win_by_runs, win_by_wickets, player_of_match, venue, umpire1, umpire2, umpire3]\n",
      "Index: []\n"
     ]
    }
   ],
   "source": [
    "print(data.head(0))"
   ]
  },
  {
   "cell_type": "code",
   "execution_count": 59,
   "metadata": {},
   "outputs": [
    {
     "data": {
      "text/plain": [
       "<AxesSubplot:>"
      ]
     },
     "execution_count": 59,
     "metadata": {},
     "output_type": "execute_result"
    },
    {
     "data": {
      "image/png": "[encoded data removed]",
      "text/plain": [
       "<Figure size 432x288 with 1 Axes>"
      ]
     },
     "metadata": {
      "needs_background": "light"
     },
     "output_type": "display_data"
    }
   ],
   "source": [
    "data['city'].value_counts().plot(kind='bar')"
   ]
  },
  {
   "cell_type": "code",
   "execution_count": 60,
   "metadata": {},
   "outputs": [
    {
     "data": {
      "text/plain": [
       "<AxesSubplot:>"
      ]
     },
     "execution_count": 60,
     "metadata": {},
     "output_type": "execute_result"
    },
    {
     "data": {
      "image/png": "[encoded data removed]",
      "text/plain": [
       "<Figure size 432x288 with 1 Axes>"
      ]
     },
     "metadata": {
      "needs_background": "light"
     },
     "output_type": "display_data"
    }
   ],
   "source": [
    "data['winner'].value_counts().plot(kind='barh')"
   ]
  },
  {
   "cell_type": "code",
   "execution_count": 66,
   "metadata": {},
   "outputs": [
    {
     "data": {
      "text/plain": [
       "<AxesSubplot:ylabel='toss_decision'>"
      ]
     },
     "execution_count": 66,
     "metadata": {},
     "output_type": "execute_result"
    },
    {
     "data": {
      "image/png": "[encoded data removed]",
      "text/plain": [
       "<Figure size 432x288 with 1 Axes>"
      ]
     },
     "metadata": {},
     "output_type": "display_data"
    }
   ],
   "source": [
    "data['toss_decision'].value_counts().plot(kind='pie')"
   ]
  },
  {
   "cell_type": "code",
   "execution_count": 67,
   "metadata": {},
   "outputs": [
    {
     "data": {
      "text/plain": [
       "<AxesSubplot:ylabel='Frequency'>"
      ]
     },
     "execution_count": 67,
     "metadata": {},
     "output_type": "execute_result"
    },
    {
     "data": {
      "image/png": "[encoded data removed]",
      "text/plain": [
       "<Figure size 432x288 with 1 Axes>"
      ]
     },
     "metadata": {
      "needs_background": "light"
     },
     "output_type": "display_data"
    }
   ],
   "source": [
    "data['win_by_wickets'].plot(kind='hist')"
   ]
  },
  {
   "cell_type": "code",
   "execution_count": null,
   "metadata": {},
   "outputs": [],
   "source": []
  }
 ],
 "metadata": {
  "interpreter": {
   "hash": "b63ccd90cac6adf2678b51e6464f73b1b438a3c25bb2b2c33b5cb7ec1b4d12b4"
  },
  "kernelspec": {
   "display_name": "Python 3.9.0 64-bit",
   "language": "python",
   "name": "python3"
  },
  "language_info": {
   "codemirror_mode": {
    "name": "ipython",
    "version": 3
   },
   "file_extension": ".py",
   "mimetype": "text/x-python",
   "name": "python",
   "nbconvert_exporter": "python",
   "pygments_lexer": "ipython3",
   "version": "3.9.0"
  },
  "orig_nbformat": 4
 },
 "nbformat": 4,
 "nbformat_minor": 2
}
